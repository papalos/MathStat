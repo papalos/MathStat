{
 "cells": [
  {
   "cell_type": "markdown",
   "metadata": {},
   "source": [
    "### 1) Случайная непрерывная величина A имеет равномерное распределение на промежутке (200, 800]. Найдите ее среднее значение и дисперсию."
   ]
  },
  {
   "cell_type": "code",
   "execution_count": 1,
   "metadata": {},
   "outputs": [
    {
     "name": "stdout",
     "output_type": "stream",
     "text": [
      "500.0\n",
      "30000.0\n"
     ]
    }
   ],
   "source": [
    "a_mean = (800+200)/2\n",
    "print(a_mean)\n",
    "a_d = ((800-200)**2)/12\n",
    "print(a_d)"
   ]
  },
  {
   "cell_type": "markdown",
   "metadata": {},
   "source": [
    "### 2) О случайной непрерывной равномерно распределенной величине B известно, что ее дисперсия равна 0.2. Можно ли найти правую границу величины B и ее среднее значение зная, что левая граница равна 0.5? Если да, найдите ее."
   ]
  },
  {
   "cell_type": "markdown",
   "metadata": {},
   "source": [
    "0.2 = (Пг-0.5)<sup>2</sup>/12<br>\n",
    "0.2*12 = (Пг-0.5)<sup>2</sup><br>\n",
    "(0.2*12)<sup>1/2</sup> = Пг-0.5<br>\n",
    "((0.2*12)<sup>1/2</sup>)+0.5 = Пг"
   ]
  },
  {
   "cell_type": "code",
   "execution_count": 1,
   "metadata": {},
   "outputs": [
    {
     "name": "stdout",
     "output_type": "stream",
     "text": [
      "2.049193338482967\n",
      "1.2745966692414834\n"
     ]
    }
   ],
   "source": [
    "b_pg = ((0.2*12)**0.5)+0.5\n",
    "print(b_pg)\n",
    "b_mean = (0.5+b_pg)/2\n",
    "print(b_mean)"
   ]
  },
  {
   "cell_type": "markdown",
   "metadata": {},
   "source": [
    "### 3) Непрерывная случайная величина X распределена нормально и задана плотностью распределения\n",
    "f(x) = (1 / (4 * sqrt(2*pi))) * (exp(-((x+2)**2) / 32))<br>\n",
    "Найдите:<br>\n",
    "а). M(X)<br>\n",
    "б). D(X)<br>\n",
    "в). std(X) (среднее квадратичное отклонение)<br>"
   ]
  },
  {
   "cell_type": "code",
   "execution_count": 6,
   "metadata": {},
   "outputs": [
    {
     "name": "stdout",
     "output_type": "stream",
     "text": [
      "[-10, -9, -8, -7, -6, -5, -4, -3, -2, -1, 0, 1, 2, 3, 4, 5, 6, 7, 8, 9]\n",
      "[3.345755644122134e-05, 0.00021817067376144004, 0.0011079621029845019, 0.004382075123392135, 0.013497741628297016, 0.032379398916472936, 0.06049268112978584, 0.08801633169107488, 0.09973557010035818, 0.08801633169107488, 0.06049268112978584, 0.032379398916472936, 0.013497741628297016, 0.004382075123392135, 0.0011079621029845019, 0.00021817067376144004, 3.345755644122134e-05, 3.995935276726369e-06, 3.716798786835744e-07, 2.692440010635819e-08]\n"
     ]
    }
   ],
   "source": [
    "import matplotlib.pyplot as plt\n",
    "from math import pi, sqrt, exp\n",
    "#import numpy as np\n",
    "#x = np.random.normal(-2, 4, 1000)\n",
    "#x_arr =sorted(x)\n",
    "x_arr = [x for x in range(-10, 10)]\n",
    "print(x_arr)\n",
    "f = lambda x: (1/(4*sqrt(2*pi))) * (exp(-((x+2)**2)/8))\n",
    "y_arr = [f(x) for x in x_arr]\n",
    "print(y_arr)"
   ]
  },
  {
   "cell_type": "code",
   "execution_count": 7,
   "metadata": {},
   "outputs": [
    {
     "data": {
      "text/plain": [
       "[<matplotlib.lines.Line2D at 0x18ffc664a60>]"
      ]
     },
     "execution_count": 7,
     "metadata": {},
     "output_type": "execute_result"
    },
    {
     "data": {
      "image/png": "[encoded data removed]",
      "text/plain": [
       "<Figure size 432x288 with 1 Axes>"
      ]
     },
     "metadata": {
      "needs_background": "light"
     },
     "output_type": "display_data"
    }
   ],
   "source": [
    "plt.plot(x_arr, y_arr)"
   ]
  },
  {
   "cell_type": "code",
   "execution_count": 5,
   "metadata": {},
   "outputs": [],
   "source": [
    "# Я не понял как такое решается!"
   ]
  },
  {
   "cell_type": "markdown",
   "metadata": {},
   "source": [
    "#### 4) Рост взрослого населения города X имеет нормальное распределение. Причем, средний рост равен 174 см, а среднее квадратичное отклонение равно 8 см. Какова вероятность того, что случайным образом выбранный взрослый человек имеет рост:\n",
    "##### а). больше 182 см\n",
    "##### б). больше 190 см\n",
    "##### в). от 166 см до 190 см\n",
    "##### г). от 166 см до 182 см\n",
    "##### д). от 158 см до 190 см\n",
    "##### е). не выше 150 см или не ниже 190 см\n",
    "##### ё). не выше 150 см или не ниже 198 см\n",
    "##### ж). ниже 166 см."
   ]
  },
  {
   "cell_type": "code",
   "execution_count": 6,
   "metadata": {},
   "outputs": [
    {
     "name": "stdout",
     "output_type": "stream",
     "text": [
      "a:  1.0 ;свероятность по Z таблице: 0,15866\n"
     ]
    }
   ],
   "source": [
    "print('a: ', (182-174)/8, ';свероятность по Z таблице: 0,15866')"
   ]
  },
  {
   "cell_type": "code",
   "execution_count": 7,
   "metadata": {},
   "outputs": [
    {
     "name": "stdout",
     "output_type": "stream",
     "text": [
      "б:  2.0 ;свероятность по Z таблице: 0,02275\n"
     ]
    }
   ],
   "source": [
    "print('б: ', (190-174)/8, ';свероятность по Z таблице: 0,02275')"
   ]
  },
  {
   "cell_type": "code",
   "execution_count": 8,
   "metadata": {},
   "outputs": [
    {
     "name": "stdout",
     "output_type": "stream",
     "text": [
      "в:  -1.0 и 2.0 ;свероятность по Z таблице:  0.8185\n"
     ]
    }
   ],
   "source": [
    "print('в: ', (166-174)/8, 'и', (190-174)/8, ';свероятность по Z таблице: ', .9772-.1587)"
   ]
  },
  {
   "cell_type": "code",
   "execution_count": 9,
   "metadata": {},
   "outputs": [
    {
     "name": "stdout",
     "output_type": "stream",
     "text": [
      "г:  -1.0 и 1.0 ;свероятность по Z таблице:  0.6826\n"
     ]
    }
   ],
   "source": [
    "print('г: ', (166-174)/8, 'и', (182-174)/8, ';свероятность по Z таблице: ', round(.8413-.1587, 4))"
   ]
  },
  {
   "cell_type": "code",
   "execution_count": 10,
   "metadata": {},
   "outputs": [
    {
     "name": "stdout",
     "output_type": "stream",
     "text": [
      "д:  -2.0 и 2.0 ;свероятность по Z таблице:  0.9544\n"
     ]
    }
   ],
   "source": [
    "print('д: ', (158-174)/8, 'и', (190-174)/8, ';свероятность по Z таблице: ', round(.9772-.0228, 4))"
   ]
  },
  {
   "cell_type": "code",
   "execution_count": 11,
   "metadata": {},
   "outputs": [
    {
     "name": "stdout",
     "output_type": "stream",
     "text": [
      "е:  -3.0 и 2.0 ;свероятность по Z таблице:  0.024\n"
     ]
    }
   ],
   "source": [
    "print('е: ', (150-174)/8, 'и', (190-174)/8, ';свероятность по Z таблице: ', round(.0013+.02275, 4))"
   ]
  },
  {
   "cell_type": "code",
   "execution_count": 12,
   "metadata": {},
   "outputs": [
    {
     "name": "stdout",
     "output_type": "stream",
     "text": [
      "ё:  -3.0 и 3.0 ;свероятность по Z таблице:  0.0027\n"
     ]
    }
   ],
   "source": [
    "print('ё: ', (150-174)/8, 'и', (198-174)/8, ';свероятность по Z таблице: ', round(.0013+.00135, 4))"
   ]
  },
  {
   "cell_type": "code",
   "execution_count": 13,
   "metadata": {},
   "outputs": [
    {
     "name": "stdout",
     "output_type": "stream",
     "text": [
      "ж:  -1.0 ;свероятность по Z таблице: 0,1587\n"
     ]
    }
   ],
   "source": [
    "print('ж: ', (166-174)/8, ';свероятность по Z таблице: 0,1587')"
   ]
  },
  {
   "cell_type": "markdown",
   "metadata": {},
   "source": [
    "### 5) На сколько сигм (средних квадратичных отклонений) отклоняется рост человека, равный 190 см, от математического ожидания роста в популяции, в которой M(X) = 178 см и D(X) = 25 кв.см?"
   ]
  },
  {
   "cell_type": "code",
   "execution_count": 14,
   "metadata": {},
   "outputs": [
    {
     "data": {
      "text/plain": [
       "2.4"
      ]
     },
     "execution_count": 14,
     "metadata": {},
     "output_type": "execute_result"
    }
   ],
   "source": [
    "(190-178)/sqrt(25)"
   ]
  }
 ],
 "metadata": {
  "kernelspec": {
   "display_name": "Python 3",
   "language": "python",
   "name": "python3"
  },
  "language_info": {
   "codemirror_mode": {
    "name": "ipython",
    "version": 3
   },
   "file_extension": ".py",
   "mimetype": "text/x-python",
   "name": "python",
   "nbconvert_exporter": "python",
   "pygments_lexer": "ipython3",
   "version": "3.8.3"
  }
 },
 "nbformat": 4,
 "nbformat_minor": 4
}
