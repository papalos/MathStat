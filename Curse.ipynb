{
 "cells": [
  {
   "cell_type": "code",
   "execution_count": 1,
   "metadata": {},
   "outputs": [],
   "source": [
    "import pandas as pd\n",
    "import numpy as np\n",
    "import scipy as sp\n",
    "# Идея взять за генеральную совокупность результаты участния в олимпиаде школьнков по всей россии \n",
    "# и сравнить их с результатами школьников Москвы,\n",
    "# Выдвинув гипотезу нулевую гипотезу, что результаты не зависят от региона проживания участника"
   ]
  },
  {
   "cell_type": "code",
   "execution_count": 2,
   "metadata": {},
   "outputs": [
    {
     "data": {
      "text/html": [
       "<div>\n",
       "<style scoped>\n",
       "    .dataframe tbody tr th:only-of-type {\n",
       "        vertical-align: middle;\n",
       "    }\n",
       "\n",
       "    .dataframe tbody tr th {\n",
       "        vertical-align: top;\n",
       "    }\n",
       "\n",
       "    .dataframe thead th {\n",
       "        text-align: right;\n",
       "    }\n",
       "</style>\n",
       "<table border=\"1\" class=\"dataframe\">\n",
       "  <thead>\n",
       "    <tr style=\"text-align: right;\">\n",
       "      <th></th>\n",
       "      <th>id</th>\n",
       "      <th>Поток</th>\n",
       "      <th>Профиль олимпиады</th>\n",
       "      <th>Регион нахождения школы</th>\n",
       "      <th>Сумма баллов I этапа</th>\n",
       "      <th>Результат участия в олимпиаде</th>\n",
       "    </tr>\n",
       "  </thead>\n",
       "  <tbody>\n",
       "    <tr>\n",
       "      <th>0</th>\n",
       "      <td>118</td>\n",
       "      <td>Олимпиада 11 класс</td>\n",
       "      <td>Обществознание</td>\n",
       "      <td>Москва</td>\n",
       "      <td>60</td>\n",
       "      <td>Участник первого этапа</td>\n",
       "    </tr>\n",
       "    <tr>\n",
       "      <th>1</th>\n",
       "      <td>158</td>\n",
       "      <td>Олимпиада 11 класс</td>\n",
       "      <td>Обществознание</td>\n",
       "      <td>Москва</td>\n",
       "      <td>60</td>\n",
       "      <td>Участник первого этапа</td>\n",
       "    </tr>\n",
       "    <tr>\n",
       "      <th>2</th>\n",
       "      <td>275</td>\n",
       "      <td>Олимпиада 11 класс</td>\n",
       "      <td>Обществознание</td>\n",
       "      <td>Москва</td>\n",
       "      <td>59</td>\n",
       "      <td>Участник первого этапа</td>\n",
       "    </tr>\n",
       "    <tr>\n",
       "      <th>3</th>\n",
       "      <td>353</td>\n",
       "      <td>Олимпиада 11 класс</td>\n",
       "      <td>Обществознание</td>\n",
       "      <td>Москва</td>\n",
       "      <td>63</td>\n",
       "      <td>Участник первого этапа</td>\n",
       "    </tr>\n",
       "    <tr>\n",
       "      <th>4</th>\n",
       "      <td>442</td>\n",
       "      <td>Олимпиада 11 класс</td>\n",
       "      <td>Обществознание</td>\n",
       "      <td>Москва</td>\n",
       "      <td>64</td>\n",
       "      <td>Участник первого этапа</td>\n",
       "    </tr>\n",
       "    <tr>\n",
       "      <th>...</th>\n",
       "      <td>...</td>\n",
       "      <td>...</td>\n",
       "      <td>...</td>\n",
       "      <td>...</td>\n",
       "      <td>...</td>\n",
       "      <td>...</td>\n",
       "    </tr>\n",
       "    <tr>\n",
       "      <th>1460</th>\n",
       "      <td>43452</td>\n",
       "      <td>Олимпиада 11 класс</td>\n",
       "      <td>Обществознание</td>\n",
       "      <td>Москва</td>\n",
       "      <td>68</td>\n",
       "      <td>Участник второго этапа</td>\n",
       "    </tr>\n",
       "    <tr>\n",
       "      <th>1461</th>\n",
       "      <td>12475</td>\n",
       "      <td>Олимпиада 11 класс</td>\n",
       "      <td>Обществознание</td>\n",
       "      <td>Москва</td>\n",
       "      <td>82</td>\n",
       "      <td>Участник второго этапа</td>\n",
       "    </tr>\n",
       "    <tr>\n",
       "      <th>1462</th>\n",
       "      <td>13973</td>\n",
       "      <td>Олимпиада 11 класс</td>\n",
       "      <td>Обществознание</td>\n",
       "      <td>Москва</td>\n",
       "      <td>74</td>\n",
       "      <td>Участник второго этапа</td>\n",
       "    </tr>\n",
       "    <tr>\n",
       "      <th>1463</th>\n",
       "      <td>20018</td>\n",
       "      <td>Олимпиада 11 класс</td>\n",
       "      <td>Обществознание</td>\n",
       "      <td>Москва</td>\n",
       "      <td>81</td>\n",
       "      <td>Участник второго этапа</td>\n",
       "    </tr>\n",
       "    <tr>\n",
       "      <th>1464</th>\n",
       "      <td>7531</td>\n",
       "      <td>Олимпиада 11 класс</td>\n",
       "      <td>Обществознание</td>\n",
       "      <td>Москва</td>\n",
       "      <td>73</td>\n",
       "      <td>Участник второго этапа</td>\n",
       "    </tr>\n",
       "  </tbody>\n",
       "</table>\n",
       "<p>1465 rows × 6 columns</p>\n",
       "</div>"
      ],
      "text/plain": [
       "         id               Поток Профиль олимпиады Регион нахождения школы  \\\n",
       "0       118  Олимпиада 11 класс    Обществознание                  Москва   \n",
       "1       158  Олимпиада 11 класс    Обществознание                  Москва   \n",
       "2       275  Олимпиада 11 класс    Обществознание                  Москва   \n",
       "3       353  Олимпиада 11 класс    Обществознание                  Москва   \n",
       "4       442  Олимпиада 11 класс    Обществознание                  Москва   \n",
       "...     ...                 ...               ...                     ...   \n",
       "1460  43452  Олимпиада 11 класс    Обществознание                  Москва   \n",
       "1461  12475  Олимпиада 11 класс    Обществознание                  Москва   \n",
       "1462  13973  Олимпиада 11 класс    Обществознание                  Москва   \n",
       "1463  20018  Олимпиада 11 класс    Обществознание                  Москва   \n",
       "1464   7531  Олимпиада 11 класс    Обществознание                  Москва   \n",
       "\n",
       "      Сумма баллов I этапа Результат участия в олимпиаде  \n",
       "0                       60        Участник первого этапа  \n",
       "1                       60        Участник первого этапа  \n",
       "2                       59        Участник первого этапа  \n",
       "3                       63        Участник первого этапа  \n",
       "4                       64        Участник первого этапа  \n",
       "...                    ...                           ...  \n",
       "1460                    68        Участник второго этапа  \n",
       "1461                    82        Участник второго этапа  \n",
       "1462                    74        Участник второго этапа  \n",
       "1463                    81        Участник второго этапа  \n",
       "1464                    73        Участник второго этапа  \n",
       "\n",
       "[1465 rows x 6 columns]"
      ]
     },
     "execution_count": 2,
     "metadata": {},
     "output_type": "execute_result"
    }
   ],
   "source": [
    "# Москва\n",
    "mos = pd.read_csv(r'C:\\Users\\sepa\\Desktop\\curse\\mos.csv', delimiter=';', encoding='Windows-1251')\n",
    "mos"
   ]
  },
  {
   "cell_type": "code",
   "execution_count": 3,
   "metadata": {},
   "outputs": [
    {
     "data": {
      "text/html": [
       "<div>\n",
       "<style scoped>\n",
       "    .dataframe tbody tr th:only-of-type {\n",
       "        vertical-align: middle;\n",
       "    }\n",
       "\n",
       "    .dataframe tbody tr th {\n",
       "        vertical-align: top;\n",
       "    }\n",
       "\n",
       "    .dataframe thead th {\n",
       "        text-align: right;\n",
       "    }\n",
       "</style>\n",
       "<table border=\"1\" class=\"dataframe\">\n",
       "  <thead>\n",
       "    <tr style=\"text-align: right;\">\n",
       "      <th></th>\n",
       "      <th>id</th>\n",
       "      <th>Поток</th>\n",
       "      <th>Профиль олимпиады</th>\n",
       "      <th>Регион нахождения школы</th>\n",
       "      <th>Сумма баллов I этапа</th>\n",
       "      <th>Результат участия в олимпиаде</th>\n",
       "    </tr>\n",
       "  </thead>\n",
       "  <tbody>\n",
       "    <tr>\n",
       "      <th>0</th>\n",
       "      <td>21500</td>\n",
       "      <td>Олимпиада 11 класс</td>\n",
       "      <td>Обществознание</td>\n",
       "      <td>Санкт-Петербург</td>\n",
       "      <td>34</td>\n",
       "      <td>Участник первого этапа</td>\n",
       "    </tr>\n",
       "    <tr>\n",
       "      <th>1</th>\n",
       "      <td>17437</td>\n",
       "      <td>Олимпиада 11 класс</td>\n",
       "      <td>Обществознание</td>\n",
       "      <td>Санкт-Петербург</td>\n",
       "      <td>63</td>\n",
       "      <td>Участник первого этапа</td>\n",
       "    </tr>\n",
       "    <tr>\n",
       "      <th>2</th>\n",
       "      <td>250</td>\n",
       "      <td>Олимпиада 11 класс</td>\n",
       "      <td>Обществознание</td>\n",
       "      <td>Санкт-Петербург</td>\n",
       "      <td>58</td>\n",
       "      <td>Участник первого этапа</td>\n",
       "    </tr>\n",
       "    <tr>\n",
       "      <th>3</th>\n",
       "      <td>558</td>\n",
       "      <td>Олимпиада 11 класс</td>\n",
       "      <td>Обществознание</td>\n",
       "      <td>Санкт-Петербург</td>\n",
       "      <td>55</td>\n",
       "      <td>Участник первого этапа</td>\n",
       "    </tr>\n",
       "    <tr>\n",
       "      <th>4</th>\n",
       "      <td>1539</td>\n",
       "      <td>Олимпиада 11 класс</td>\n",
       "      <td>Обществознание</td>\n",
       "      <td>Санкт-Петербург</td>\n",
       "      <td>66</td>\n",
       "      <td>Участник первого этапа</td>\n",
       "    </tr>\n",
       "    <tr>\n",
       "      <th>...</th>\n",
       "      <td>...</td>\n",
       "      <td>...</td>\n",
       "      <td>...</td>\n",
       "      <td>...</td>\n",
       "      <td>...</td>\n",
       "      <td>...</td>\n",
       "    </tr>\n",
       "    <tr>\n",
       "      <th>4017</th>\n",
       "      <td>27804</td>\n",
       "      <td>Олимпиада 11 класс</td>\n",
       "      <td>Обществознание</td>\n",
       "      <td>Санкт-Петербург</td>\n",
       "      <td>68</td>\n",
       "      <td>Участник второго этапа</td>\n",
       "    </tr>\n",
       "    <tr>\n",
       "      <th>4018</th>\n",
       "      <td>28977</td>\n",
       "      <td>Олимпиада 11 класс</td>\n",
       "      <td>Обществознание</td>\n",
       "      <td>Санкт-Петербург</td>\n",
       "      <td>68</td>\n",
       "      <td>Участник второго этапа</td>\n",
       "    </tr>\n",
       "    <tr>\n",
       "      <th>4019</th>\n",
       "      <td>11767</td>\n",
       "      <td>Олимпиада 11 класс</td>\n",
       "      <td>Обществознание</td>\n",
       "      <td>Санкт-Петербург</td>\n",
       "      <td>68</td>\n",
       "      <td>Участник второго этапа</td>\n",
       "    </tr>\n",
       "    <tr>\n",
       "      <th>4020</th>\n",
       "      <td>12408</td>\n",
       "      <td>Олимпиада 11 класс</td>\n",
       "      <td>Обществознание</td>\n",
       "      <td>Санкт-Петербург</td>\n",
       "      <td>68</td>\n",
       "      <td>Участник второго этапа</td>\n",
       "    </tr>\n",
       "    <tr>\n",
       "      <th>4021</th>\n",
       "      <td>10866</td>\n",
       "      <td>Олимпиада 11 класс</td>\n",
       "      <td>Обществознание</td>\n",
       "      <td>Санкт-Петербург</td>\n",
       "      <td>68</td>\n",
       "      <td>Участник второго этапа</td>\n",
       "    </tr>\n",
       "  </tbody>\n",
       "</table>\n",
       "<p>4022 rows × 6 columns</p>\n",
       "</div>"
      ],
      "text/plain": [
       "         id               Поток Профиль олимпиады Регион нахождения школы  \\\n",
       "0     21500  Олимпиада 11 класс    Обществознание         Санкт-Петербург   \n",
       "1     17437  Олимпиада 11 класс    Обществознание         Санкт-Петербург   \n",
       "2       250  Олимпиада 11 класс    Обществознание         Санкт-Петербург   \n",
       "3       558  Олимпиада 11 класс    Обществознание         Санкт-Петербург   \n",
       "4      1539  Олимпиада 11 класс    Обществознание         Санкт-Петербург   \n",
       "...     ...                 ...               ...                     ...   \n",
       "4017  27804  Олимпиада 11 класс    Обществознание         Санкт-Петербург   \n",
       "4018  28977  Олимпиада 11 класс    Обществознание         Санкт-Петербург   \n",
       "4019  11767  Олимпиада 11 класс    Обществознание         Санкт-Петербург   \n",
       "4020  12408  Олимпиада 11 класс    Обществознание         Санкт-Петербург   \n",
       "4021  10866  Олимпиада 11 класс    Обществознание         Санкт-Петербург   \n",
       "\n",
       "      Сумма баллов I этапа Результат участия в олимпиаде  \n",
       "0                       34        Участник первого этапа  \n",
       "1                       63        Участник первого этапа  \n",
       "2                       58        Участник первого этапа  \n",
       "3                       55        Участник первого этапа  \n",
       "4                       66        Участник первого этапа  \n",
       "...                    ...                           ...  \n",
       "4017                    68        Участник второго этапа  \n",
       "4018                    68        Участник второго этапа  \n",
       "4019                    68        Участник второго этапа  \n",
       "4020                    68        Участник второго этапа  \n",
       "4021                    68        Участник второго этапа  \n",
       "\n",
       "[4022 rows x 6 columns]"
      ]
     },
     "execution_count": 3,
     "metadata": {},
     "output_type": "execute_result"
    }
   ],
   "source": [
    "# не Москва\n",
    "unmos = pd.read_csv(r'C:\\Users\\sepa\\Desktop\\curse\\unmos.csv', delimiter=';', encoding='Windows-1251')\n",
    "unmos"
   ]
  },
  {
   "cell_type": "code",
   "execution_count": 4,
   "metadata": {},
   "outputs": [
    {
     "data": {
      "image/png": "[encoded data removed]",
      "text/plain": [
       "<Figure size 432x288 with 1 Axes>"
      ]
     },
     "metadata": {
      "needs_background": "light"
     },
     "output_type": "display_data"
    }
   ],
   "source": [
    "# Дело в том, что данные не похожи на нормальное распределение\n",
    "from collections import Counter\n",
    "a = Counter(unmos['Сумма баллов I этапа'])\n",
    "x = sorted(a)\n",
    "y = [a[i] for i in x]\n",
    "import matplotlib.pyplot as plt\n",
    "plt.plot(x, y)\n",
    "plt.show()"
   ]
  },
  {
   "cell_type": "code",
   "execution_count": 5,
   "metadata": {},
   "outputs": [
    {
     "data": {
      "image/png": "[encoded data removed]",
      "text/plain": [
       "<Figure size 432x288 with 1 Axes>"
      ]
     },
     "metadata": {
      "needs_background": "light"
     },
     "output_type": "display_data"
    }
   ],
   "source": [
    "# на графиках виден длинный левый хвост\n",
    "# QQ Plot\n",
    "from statsmodels.graphics.gofplots import qqplot\n",
    "# q-q plot\n",
    "qqplot(unmos['Сумма баллов I этапа'], line='s')\n",
    "plt.show()"
   ]
  },
  {
   "cell_type": "code",
   "execution_count": 6,
   "metadata": {},
   "outputs": [
    {
     "data": {
      "image/png": "[encoded data removed]",
      "text/plain": [
       "<Figure size 576x720 with 2 Axes>"
      ]
     },
     "metadata": {
      "needs_background": "light"
     },
     "output_type": "display_data"
    }
   ],
   "source": [
    "# Отраженные на боксплотах выбросы нельзя считать ошибками, так как это реальные баллы полученные участниками\n",
    "fig, axs = plt.subplots(1, 2)\n",
    "fig.set_size_inches(8, 10)\n",
    "axs[0].boxplot(unmos['Сумма баллов I этапа'])\n",
    "axs[1].boxplot(mos['Сумма баллов I этапа'])\n",
    "plt.show()"
   ]
  },
  {
   "cell_type": "code",
   "execution_count": 7,
   "metadata": {},
   "outputs": [
    {
     "data": {
      "text/plain": [
       "NormaltestResult(statistic=685.0875290423651, pvalue=1.7184355877414937e-149)"
      ]
     },
     "execution_count": 7,
     "metadata": {},
     "output_type": "execute_result"
    }
   ],
   "source": [
    "# Также эти данные не проходят провеку на нормальность имея оооочень низкое p-значение\n",
    "sp.stats.normaltest(unmos['Сумма баллов I этапа'])"
   ]
  },
  {
   "cell_type": "code",
   "execution_count": 8,
   "metadata": {},
   "outputs": [],
   "source": [
    "# Но на сколько я понимаю распределение отличающееся от нормального не должно помешать тестированию гипотезы, т.к.\n",
    "# Какова бы ни была форма распределения генеральной совокупности,\n",
    "# выборочное распределение стремится к нормальному, \n",
    "# а его дисперсия задается центральной предельной теоремой."
   ]
  },
  {
   "cell_type": "code",
   "execution_count": 9,
   "metadata": {},
   "outputs": [
    {
     "data": {
      "text/plain": [
       "56.83689706613625"
      ]
     },
     "execution_count": 9,
     "metadata": {},
     "output_type": "execute_result"
    }
   ],
   "source": [
    "# Средняя ген.совокупноси\n",
    "mu = unmos['Сумма баллов I этапа'].mean()\n",
    "mu"
   ]
  },
  {
   "cell_type": "code",
   "execution_count": 10,
   "metadata": {},
   "outputs": [
    {
     "data": {
      "text/plain": [
       "15.703775221226344"
      ]
     },
     "execution_count": 10,
     "metadata": {},
     "output_type": "execute_result"
    }
   ],
   "source": [
    "# Стандартное отклонение ген.совокупности\n",
    "sigma = unmos['Сумма баллов I этапа'].std()\n",
    "sigma"
   ]
  },
  {
   "cell_type": "code",
   "execution_count": 11,
   "metadata": {},
   "outputs": [
    {
     "data": {
      "text/plain": [
       "62.23412969283277"
      ]
     },
     "execution_count": 11,
     "metadata": {},
     "output_type": "execute_result"
    }
   ],
   "source": [
    "# Выборочная средняя (у москвичей)\n",
    "X_ = mos['Сумма баллов I этапа'].mean()\n",
    "X_"
   ]
  },
  {
   "cell_type": "code",
   "execution_count": 12,
   "metadata": {},
   "outputs": [
    {
     "data": {
      "text/plain": [
       "1465"
      ]
     },
     "execution_count": 12,
     "metadata": {},
     "output_type": "execute_result"
    }
   ],
   "source": [
    "# размер выборки\n",
    "n = mos.count()[0]\n",
    "n"
   ]
  },
  {
   "cell_type": "code",
   "execution_count": 13,
   "metadata": {},
   "outputs": [
    {
     "data": {
      "text/plain": [
       "0.41028463956128486"
      ]
     },
     "execution_count": 13,
     "metadata": {},
     "output_type": "execute_result"
    }
   ],
   "source": [
    "# ошибка среднего\n",
    "SE = sigma/(n**.5)\n",
    "SE"
   ]
  },
  {
   "cell_type": "code",
   "execution_count": 14,
   "metadata": {},
   "outputs": [
    {
     "data": {
      "text/plain": [
       "13.154849356455912"
      ]
     },
     "execution_count": 14,
     "metadata": {},
     "output_type": "execute_result"
    }
   ],
   "source": [
    "alfa = 0.05\n",
    "# z значение\n",
    "z = (X_ - mu)/SE\n",
    "z"
   ]
  },
  {
   "cell_type": "code",
   "execution_count": 15,
   "metadata": {},
   "outputs": [
    {
     "data": {
      "text/plain": [
       "7.980064144924512e-40"
      ]
     },
     "execution_count": 15,
     "metadata": {},
     "output_type": "execute_result"
    }
   ],
   "source": [
    "# p значение\n",
    "sp.stats.norm.sf(z)"
   ]
  },
  {
   "cell_type": "code",
   "execution_count": 16,
   "metadata": {},
   "outputs": [],
   "source": [
    "# Учитывая значение ниже 0.025 (т.к. отклонение возможно в обе стороны) нулевую гипотезу можно отклонить\n",
    "# Следовательно с вероятностью 95% результаты участников из г. Москвы отличаются от результатов в целом по стране"
   ]
  },
  {
   "cell_type": "markdown",
   "metadata": {},
   "source": [
    "___________________\n"
   ]
  },
  {
   "cell_type": "code",
   "execution_count": 19,
   "metadata": {},
   "outputs": [],
   "source": [
    "# Не совсем понятно, можно ли результаты участников не из Москвы рассматривать как генеральную совокупность.\n",
    "# Возможно ее стоит рассмотреть как первую выборку из генеральной совокупности, а москвичей как вторую\n",
    "# и для анализа использовать парный критерий Стьюдента\n",
    "# в таком случае ..."
   ]
  },
  {
   "cell_type": "code",
   "execution_count": 20,
   "metadata": {},
   "outputs": [
    {
     "name": "stdout",
     "output_type": "stream",
     "text": [
      "Для немосковских школьников - Среднее: 56.83689706613625, Отклонение: 15.703775221226344, Количество: 4022\n"
     ]
    }
   ],
   "source": [
    "X_0 = unmos['Сумма баллов I этапа'].mean()\n",
    "SD_0 = unmos['Сумма баллов I этапа'].std()\n",
    "n_0 = unmos['Сумма баллов I этапа'].count()\n",
    "print(f'Для немосковских школьников - Среднее: {X_0}, Отклонение: {SD_0}, Количество: {n_0}')"
   ]
  },
  {
   "cell_type": "code",
   "execution_count": 21,
   "metadata": {},
   "outputs": [
    {
     "name": "stdout",
     "output_type": "stream",
     "text": [
      "Для немосковских школьников - Среднее: 62.23412969283277, Отклонение: 15.347760501167631, Количество: 1465\n"
     ]
    }
   ],
   "source": [
    "X_1 = mos['Сумма баллов I этапа'].mean()\n",
    "SD_1 = mos['Сумма баллов I этапа'].std()\n",
    "n_1 = mos['Сумма баллов I этапа'].count()\n",
    "print(f'Для немосковских школьников - Среднее: {X_1}, Отклонение: {SD_1}, Количество: {n_1}')"
   ]
  },
  {
   "cell_type": "code",
   "execution_count": 23,
   "metadata": {},
   "outputs": [
    {
     "data": {
      "text/plain": [
       "0.4712774674881318"
      ]
     },
     "execution_count": 23,
     "metadata": {},
     "output_type": "execute_result"
    }
   ],
   "source": [
    "# ошибка средних для парного критерия\n",
    "SE = ((SD_0**2/n_0)+(SD_1**2/n_1))**.5\n",
    "SE"
   ]
  },
  {
   "cell_type": "code",
   "execution_count": 26,
   "metadata": {},
   "outputs": [
    {
     "data": {
      "text/plain": [
       "11.452346014892877"
      ]
     },
     "execution_count": 26,
     "metadata": {},
     "output_type": "execute_result"
    }
   ],
   "source": [
    "t = (X_1 - X_0)/SE\n",
    "t"
   ]
  },
  {
   "cell_type": "code",
   "execution_count": 35,
   "metadata": {},
   "outputs": [
    {
     "data": {
      "text/plain": [
       "2.5051776691268407e-30"
      ]
     },
     "execution_count": 35,
     "metadata": {},
     "output_type": "execute_result"
    }
   ],
   "source": [
    "# степени свободы (degrees of freedom) для парного критерия\n",
    "df = n_0 + n_1 - 2\n",
    "sp.stats.t.sf(t, df)"
   ]
  },
  {
   "cell_type": "code",
   "execution_count": null,
   "metadata": {},
   "outputs": [],
   "source": [
    "# Так как t критерий так же значительно меньше 0,025 \n",
    "# гопотезу о схожести результатов двух этих выборок можно отклонить с вероятностью 95%"
   ]
  }
 ],
 "metadata": {
  "kernelspec": {
   "display_name": "Python 3",
   "language": "python",
   "name": "python3"
  },
  "language_info": {
   "codemirror_mode": {
    "name": "ipython",
    "version": 3
   },
   "file_extension": ".py",
   "mimetype": "text/x-python",
   "name": "python",
   "nbconvert_exporter": "python",
   "pygments_lexer": "ipython3",
   "version": "3.8.3"
  }
 },
 "nbformat": 4,
 "nbformat_minor": 4
}
