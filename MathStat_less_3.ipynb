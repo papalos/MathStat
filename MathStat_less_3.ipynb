{
 "cells": [
  {
   "cell_type": "markdown",
   "metadata": {},
   "source": [
    "### 1) Даны значения зарплат из выборки выпускников: 100, 80, 75, 77, 89, 33, 45, 25, 65, 17, 30, 24, 57, 55, 70, 75, 65, 84, 90, 150. Посчитать (желательно без использования статистических методов наподобие std, var, mean) среднее арифметическое, среднее квадратичное отклонение, смещенную и несмещенную оценки дисперсий для данной выборки."
   ]
  },
  {
   "cell_type": "code",
   "execution_count": 1,
   "metadata": {},
   "outputs": [
    {
     "data": {
      "text/plain": [
       "65.3"
      ]
     },
     "execution_count": 1,
     "metadata": {},
     "output_type": "execute_result"
    }
   ],
   "source": [
    "salary = [100, 80, 75, 77, 89, 33, 45, 25, 65, 17, 30, 24, 57, 55, 70, 75, 65, 84, 90, 150]\n",
    "mean_sal = sum(salary)/len(salary)\n",
    "mean_sal"
   ]
  },
  {
   "cell_type": "code",
   "execution_count": 2,
   "metadata": {},
   "outputs": [
    {
     "name": "stdout",
     "output_type": "stream",
     "text": [
      "[-34.7, -14.700000000000003, -9.700000000000003, -11.700000000000003, -23.700000000000003, 32.3, 20.299999999999997, 40.3, 0.29999999999999716, 48.3, 35.3, 41.3, 8.299999999999997, 10.299999999999997, -4.700000000000003, -9.700000000000003, 0.29999999999999716, -18.700000000000003, -24.700000000000003, -84.7]\n"
     ]
    }
   ],
   "source": [
    "dev = [mean_sal - x for x in salary]\n",
    "print(dev)"
   ]
  },
  {
   "cell_type": "code",
   "execution_count": 3,
   "metadata": {},
   "outputs": [
    {
     "name": "stdout",
     "output_type": "stream",
     "text": [
      "[1204.0900000000001, 216.0900000000001, 94.09000000000006, 136.89000000000007, 561.6900000000002, 1043.2899999999997, 412.08999999999986, 1624.0899999999997, 0.08999999999999829, 2332.89, 1246.0899999999997, 1705.6899999999998, 68.88999999999996, 106.08999999999995, 22.09000000000003, 94.09000000000006, 0.08999999999999829, 349.6900000000001, 610.0900000000001, 7174.09]\n"
     ]
    }
   ],
   "source": [
    "sq = [x*x for x in dev]\n",
    "print(sq)"
   ]
  },
  {
   "cell_type": "code",
   "execution_count": 4,
   "metadata": {},
   "outputs": [
    {
     "data": {
      "text/plain": [
       "950.11"
      ]
     },
     "execution_count": 4,
     "metadata": {},
     "output_type": "execute_result"
    }
   ],
   "source": [
    "# Смещенная\n",
    "sum(sq)/len(sq)"
   ]
  },
  {
   "cell_type": "code",
   "execution_count": 5,
   "metadata": {},
   "outputs": [
    {
     "data": {
      "text/plain": [
       "1000.1157894736842"
      ]
     },
     "execution_count": 5,
     "metadata": {},
     "output_type": "execute_result"
    }
   ],
   "source": [
    "# Несмещенная\n",
    "d = sum(sq)/(len(sq)-1)\n",
    "d"
   ]
  },
  {
   "cell_type": "code",
   "execution_count": 6,
   "metadata": {},
   "outputs": [
    {
     "data": {
      "text/plain": [
       "31.624607341019814"
      ]
     },
     "execution_count": 6,
     "metadata": {},
     "output_type": "execute_result"
    }
   ],
   "source": [
    "# std\n",
    "d**0.5"
   ]
  },
  {
   "cell_type": "markdown",
   "metadata": {},
   "source": [
    "### 2) В первом ящике находится 8 мячей, из которых 5 - белые. Во втором ящике - 12 мячей, из которых 5 белых. Из первого ящика вытаскивают случайным образом два мяча, из второго - 4. Какова вероятность того, что 3 мяча белые?"
   ]
  },
  {
   "cell_type": "code",
   "execution_count": 7,
   "metadata": {},
   "outputs": [],
   "source": [
    "from math import factorial as fac\n",
    "comb = lambda x,y: fac(y)/(fac(x)*fac(y-x))"
   ]
  },
  {
   "cell_type": "code",
   "execution_count": 8,
   "metadata": {},
   "outputs": [
    {
     "data": {
      "text/plain": [
       "0.003607503607503608"
      ]
     },
     "execution_count": 8,
     "metadata": {},
     "output_type": "execute_result"
    }
   ],
   "source": [
    "q1 = (comb(2,5)/comb(2,8))*(comb(1,5)/comb(4,12))\n",
    "q1"
   ]
  },
  {
   "cell_type": "code",
   "execution_count": 9,
   "metadata": {},
   "outputs": [
    {
     "data": {
      "text/plain": [
       "0.003607503607503608"
      ]
     },
     "execution_count": 9,
     "metadata": {},
     "output_type": "execute_result"
    }
   ],
   "source": [
    "q2 = (comb(1,5)/comb(2,8))*(comb(2,5)/comb(4,12))\n",
    "q2 "
   ]
  },
  {
   "cell_type": "code",
   "execution_count": 10,
   "metadata": {},
   "outputs": [
    {
     "data": {
      "text/plain": [
       "0.0021645021645021645"
      ]
     },
     "execution_count": 10,
     "metadata": {},
     "output_type": "execute_result"
    }
   ],
   "source": [
    "q3 = (comb(2,3)/comb(2,8))*(comb(3,5)/comb(4,12))\n",
    "q3"
   ]
  },
  {
   "cell_type": "code",
   "execution_count": 11,
   "metadata": {},
   "outputs": [
    {
     "data": {
      "text/plain": [
       "0.00937950937950938"
      ]
     },
     "execution_count": 11,
     "metadata": {},
     "output_type": "execute_result"
    }
   ],
   "source": [
    "q1+q2+q3"
   ]
  },
  {
   "cell_type": "markdown",
   "metadata": {},
   "source": [
    "### 3} На соревновании по биатлону один из трех спортсменов стреляет и попадает в мишень. Вероятность попадания для первого спортсмена равна 0.9, для второго — 0.8, для третьего — 0.6. Найти вероятность того, что выстрел произведен: a). первым спортсменом б). вторым спортсменом в). третьим спортсменом."
   ]
  },
  {
   "cell_type": "code",
   "execution_count": 12,
   "metadata": {},
   "outputs": [
    {
     "data": {
      "text/plain": [
       "0.3333333333333333"
      ]
     },
     "execution_count": 12,
     "metadata": {},
     "output_type": "execute_result"
    }
   ],
   "source": [
    "# Вероятность того, что цель будет поражена одним из спортсменов 1/3\n",
    "p = 1/3\n",
    "p"
   ]
  },
  {
   "cell_type": "code",
   "execution_count": 13,
   "metadata": {},
   "outputs": [
    {
     "data": {
      "text/plain": [
       "0.3"
      ]
     },
     "execution_count": 13,
     "metadata": {},
     "output_type": "execute_result"
    }
   ],
   "source": [
    "# Вероятность того, что первый высрелил и попал\n",
    "i = 0.9 * p\n",
    "i"
   ]
  },
  {
   "cell_type": "code",
   "execution_count": 14,
   "metadata": {},
   "outputs": [
    {
     "data": {
      "text/plain": [
       "0.26666666666666666"
      ]
     },
     "execution_count": 14,
     "metadata": {},
     "output_type": "execute_result"
    }
   ],
   "source": [
    "# Вероятность того, что второй высрелил и попал\n",
    "ii = 0.8 * p\n",
    "ii"
   ]
  },
  {
   "cell_type": "code",
   "execution_count": 15,
   "metadata": {},
   "outputs": [
    {
     "data": {
      "text/plain": [
       "0.19999999999999998"
      ]
     },
     "execution_count": 15,
     "metadata": {},
     "output_type": "execute_result"
    }
   ],
   "source": [
    "# Вероятность того, что третий высрелил и попал\n",
    "iii = 0.6 * p\n",
    "iii"
   ]
  },
  {
   "cell_type": "code",
   "execution_count": 16,
   "metadata": {},
   "outputs": [],
   "source": [
    "# Вероятность того, что кто-то из трех высрелил и попал\n",
    "v = i+ii+iii"
   ]
  },
  {
   "cell_type": "code",
   "execution_count": 17,
   "metadata": {},
   "outputs": [
    {
     "name": "stdout",
     "output_type": "stream",
     "text": [
      "Вероятность того, что попал первый спортсмен:  0.391304347826087\n",
      "Вероятность того, что попал второй спортсмен:  0.3478260869565218\n",
      "Вероятность того, что попал третий спортсмен:  0.2608695652173913\n"
     ]
    }
   ],
   "source": [
    "print('Вероятность того, что попал первый спортсмен: ', i/v)\n",
    "print('Вероятность того, что попал второй спортсмен: ', ii/v)\n",
    "print('Вероятность того, что попал третий спортсмен: ', iii/v)"
   ]
  },
  {
   "cell_type": "markdown",
   "metadata": {},
   "source": [
    "### 4) В университет на факультеты A и B поступило равное количество студентов, а на факультет C студентов поступило столько же, сколько на A и B вместе. Вероятность того, что студент факультета A сдаст первую сессию, равна 0.8. Для студента факультета B эта вероятность равна 0.7, а для студента факультета C - 0.9. Студент сдал первую сессию. Какова вероятность, что он учится: a). на факультете A б). на факультете B в). на факультете C?"
   ]
  },
  {
   "cell_type": "code",
   "execution_count": 18,
   "metadata": {},
   "outputs": [],
   "source": [
    "# Вероятность того что студент окажется с факультета\n",
    "# А = 1/4, \n",
    "# B = 1/4,\n",
    "# C = 2/4"
   ]
  },
  {
   "cell_type": "code",
   "execution_count": 19,
   "metadata": {},
   "outputs": [
    {
     "data": {
      "text/plain": [
       "0.825"
      ]
     },
     "execution_count": 19,
     "metadata": {},
     "output_type": "execute_result"
    }
   ],
   "source": [
    "# общая вероятность сдачи\n",
    "g = ((1/4)*0.8) + ((1/4)*0.7) + ((2/4)*0.9)\n",
    "g"
   ]
  },
  {
   "cell_type": "code",
   "execution_count": 20,
   "metadata": {},
   "outputs": [
    {
     "name": "stdout",
     "output_type": "stream",
     "text": [
      "A:  0.24242424242424246\n",
      "B:  0.21212121212121213\n",
      "C:  0.5454545454545455\n"
     ]
    }
   ],
   "source": [
    "# Вероятность того что сдавший студент учится на факультете\n",
    "print('A: ',((1/4)*0.8)/g)\n",
    "print('B: ',((1/4)*0.7)/g)\n",
    "print('C: ',((2/4)*0.9)/g)"
   ]
  },
  {
   "cell_type": "markdown",
   "metadata": {},
   "source": [
    "### 5) Устройство состоит из трех деталей. Для первой детали вероятность выйти из строя в первый месяц равна 0.1, для второй - 0.2, для третьей - 0.25. Какова вероятность того, что в первый месяц выйдут из строя: а). все детали б). только две детали в). хотя бы одна "
   ]
  },
  {
   "cell_type": "code",
   "execution_count": 21,
   "metadata": {},
   "outputs": [
    {
     "name": "stdout",
     "output_type": "stream",
     "text": [
      "Вероятность, что из строя выйдут все детали:  0.005000000000000001\n",
      "Вероятность, что из строя выйдут две детали:  0.095\n",
      "Вероятность, что из строя выйдет хотя бы одна деталь:  0.65\n"
     ]
    }
   ],
   "source": [
    "# Находим общую вероятность\n",
    "a = 0.1\n",
    "b = 0.2\n",
    "c = 0.25\n",
    "d_all = a * b * c\n",
    "print('Вероятность, что из строя выйдут все детали: ', d_all)\n",
    "two = a*b + a*c + b*c\n",
    "print('Вероятность, что из строя выйдут две детали: ', two)\n",
    "at_least_one = a + b + c + two  + d_all\n",
    "print('Вероятность, что из строя выйдет хотя бы одна деталь: ', at_least_one)"
   ]
  },
  {
   "cell_type": "code",
   "execution_count": null,
   "metadata": {},
   "outputs": [],
   "source": []
  }
 ],
 "metadata": {
  "kernelspec": {
   "display_name": "Python 3",
   "language": "python",
   "name": "python3"
  },
  "language_info": {
   "codemirror_mode": {
    "name": "ipython",
    "version": 3
   },
   "file_extension": ".py",
   "mimetype": "text/x-python",
   "name": "python",
   "nbconvert_exporter": "python",
   "pygments_lexer": "ipython3",
   "version": "3.8.3"
  }
 },
 "nbformat": 4,
 "nbformat_minor": 4
}
