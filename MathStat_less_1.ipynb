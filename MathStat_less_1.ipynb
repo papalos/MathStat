{
 "cells": [
  {
   "cell_type": "markdown",
   "metadata": {},
   "source": [
    "#### 1)Из колоды в 52 карты извлекаются случайным образом 4 карты."
   ]
  },
  {
   "cell_type": "markdown",
   "metadata": {},
   "source": [
    "a) Найти вероятность того, что все карты – крести."
   ]
  },
  {
   "cell_type": "code",
   "execution_count": 2,
   "metadata": {},
   "outputs": [
    {
     "data": {
      "text/plain": [
       "13.0"
      ]
     },
     "execution_count": 2,
     "metadata": {},
     "output_type": "execute_result"
    }
   ],
   "source": [
    "52/4 # количество крестей в колоде\n",
    "# Следовательно количество благоприятных исходов при вытягивании первой карты:"
   ]
  },
  {
   "cell_type": "code",
   "execution_count": 7,
   "metadata": {},
   "outputs": [
    {
     "name": "stdout",
     "output_type": "stream",
     "text": [
      "Вероятность крестей при первом вытягивании:  0.25\n",
      "Вероятность крестей при втором вытягивании:  0.23529411764705882\n",
      "Вероятность крестей при третьем вытягивании:  0.22\n",
      "Вероятность крестей при втором вытягивании:  0.20408163265306123\n"
     ]
    }
   ],
   "source": [
    "# Вероятность, того что первая карта окажется крести равна:\n",
    "a = 13/52\n",
    "print('Вероятность крестей при первом вытягивании: ', a)\n",
    "# Т.к. вытаскивание карт - события зависимые, следовательно:\n",
    "b = 12/51\n",
    "print('Вероятность крестей при втором вытягивании: ', b)\n",
    "c = 11/50\n",
    "print('Вероятность крестей при третьем вытягивании: ', c)\n",
    "d = 10/49\n",
    "print('Вероятность крестей при втором вытягивании: ', d)"
   ]
  },
  {
   "cell_type": "code",
   "execution_count": 9,
   "metadata": {},
   "outputs": [
    {
     "data": {
      "text/plain": [
       "0.0026410564225690276"
      ]
     },
     "execution_count": 9,
     "metadata": {},
     "output_type": "execute_result"
    }
   ],
   "source": [
    "# Вероятность того что эти события произойдут одновременно:\n",
    "a*b*c*d"
   ]
  },
  {
   "cell_type": "code",
   "execution_count": 20,
   "metadata": {},
   "outputs": [
    {
     "name": "stdout",
     "output_type": "stream",
     "text": [
      "Количество вариантов вытягивания 4-х треф:  715.0\n",
      "Количество вариантов вытягивания 4-х карт из всех колоды:  270725.0\n",
      "Вероятность вытягивания всевозможных комбинаций 4-х треф, при вытягивании 4-х карт:  0.0026410564225690276\n"
     ]
    }
   ],
   "source": [
    "# альтернативный вариант решения\n",
    "import math as m\n",
    "j = m.factorial(13)/(m.factorial(4) * m.factorial(13-4))\n",
    "print('Количество вариантов вытягивания 4-х треф: ' , j)\n",
    "k = m.factorial(52)/(m.factorial(4) * m.factorial(52-4))\n",
    "print('Количество вариантов вытягивания 4-х карт из всех колоды: ' ,k)\n",
    "print('Вероятность вытягивания всевозможных комбинаций 4-х треф, при вытягивании 4-х карт: ' , j/k)"
   ]
  },
  {
   "cell_type": "markdown",
   "metadata": {},
   "source": [
    "б) Найти вероятность, что среди 4-х карт окажется хотя бы один туз."
   ]
  },
  {
   "cell_type": "code",
   "execution_count": 22,
   "metadata": {},
   "outputs": [
    {
     "name": "stdout",
     "output_type": "stream",
     "text": [
      "Количество спсобов вытянуть 1 туза:  4.0\n",
      "Количество спсобов вытянуть 2-х тузов:  6.0\n",
      "Количество спсобов вытянуть 3-х тузов:  4.0\n",
      "Количество спсобов вытянуть 4-х тузов:  1.0\n"
     ]
    }
   ],
   "source": [
    "i = m.factorial(4)/(m.factorial(1) * m.factorial(4-1))\n",
    "print('Количество спсобов вытянуть 1 туза: ' , i)\n",
    "ii = m.factorial(4)/(m.factorial(2) * m.factorial(4-2))\n",
    "print('Количество спсобов вытянуть 2-х тузов: ' , ii)\n",
    "iii = m.factorial(4)/(m.factorial(3) * m.factorial(4-3))\n",
    "print('Количество спсобов вытянуть 3-х тузов: ' , iii)\n",
    "iiii = m.factorial(4)/(m.factorial(4) * m.factorial(4-4))\n",
    "print('Количество спсобов вытянуть 4-х тузов: ' , iiii)\n"
   ]
  },
  {
   "cell_type": "code",
   "execution_count": 23,
   "metadata": {},
   "outputs": [
    {
     "data": {
      "text/plain": [
       "15.0"
      ]
     },
     "execution_count": 23,
     "metadata": {},
     "output_type": "execute_result"
    }
   ],
   "source": [
    "w = i+ii+iii+iiii\n",
    "# И того возможно различных вариантов вытягивания тузов:\n",
    "w"
   ]
  },
  {
   "cell_type": "code",
   "execution_count": 29,
   "metadata": {},
   "outputs": [
    {
     "data": {
      "text/plain": [
       "'0.0000554'"
      ]
     },
     "execution_count": 29,
     "metadata": {},
     "output_type": "execute_result"
    }
   ],
   "source": [
    "# Делим на возможное количество комбинаций при вытягивании карт, \n",
    "# и получаем вероятность вытягивания от 1 до 4-х тузов в сете из 4-х карт\n",
    "format(w/k, '.7f')"
   ]
  },
  {
   "cell_type": "markdown",
   "metadata": {},
   "source": [
    "#### 2) На входной двери подъезда установлен кодовый замок, содержащий десять кнопок с цифрами от 0 до 9. Код содержит три цифры, которые нужно нажать одновременно. Какова вероятность того, что человек, не знающий код, откроет дверь с первой попытки?"
   ]
  },
  {
   "cell_type": "code",
   "execution_count": 33,
   "metadata": {},
   "outputs": [
    {
     "data": {
      "text/plain": [
       "120.0"
      ]
     },
     "execution_count": 33,
     "metadata": {},
     "output_type": "execute_result"
    }
   ],
   "source": [
    "# Возможных трехкнопочных комбинаций\n",
    "code = m.factorial(10)/(m.factorial(3) * m.factorial(10-3))\n",
    "code"
   ]
  },
  {
   "cell_type": "code",
   "execution_count": 36,
   "metadata": {},
   "outputs": [
    {
     "data": {
      "text/plain": [
       "0.008333333333333333"
      ]
     },
     "execution_count": 36,
     "metadata": {},
     "output_type": "execute_result"
    }
   ],
   "source": [
    "# ... при этом только одна верная, получаем вероятность попасть в код с первой попытки\n",
    "1/code"
   ]
  },
  {
   "cell_type": "markdown",
   "metadata": {},
   "source": [
    "#### 3) В ящике имеется 15 деталей, из которых 9 окрашены. Рабочий случайным образом извлекает 3 детали. Какова вероятность того, что все извлеченные детали окрашены?"
   ]
  },
  {
   "cell_type": "code",
   "execution_count": 39,
   "metadata": {},
   "outputs": [
    {
     "data": {
      "text/plain": [
       "84.0"
      ]
     },
     "execution_count": 39,
     "metadata": {},
     "output_type": "execute_result"
    }
   ],
   "source": [
    "# Количество вариантов извлечь 3 окрашенные детали\n",
    "color = m.factorial(9)/(m.factorial(3) * m.factorial(9-3))\n",
    "color"
   ]
  },
  {
   "cell_type": "code",
   "execution_count": 42,
   "metadata": {},
   "outputs": [
    {
     "data": {
      "text/plain": [
       "455.0"
      ]
     },
     "execution_count": 42,
     "metadata": {},
     "output_type": "execute_result"
    }
   ],
   "source": [
    "# Количество вариантов извлечь любые 3 детали\n",
    "_all = m.factorial(15)/(m.factorial(3) * m.factorial(15-3))\n",
    "_all"
   ]
  },
  {
   "cell_type": "code",
   "execution_count": 43,
   "metadata": {},
   "outputs": [
    {
     "data": {
      "text/plain": [
       "0.18461538461538463"
      ]
     },
     "execution_count": 43,
     "metadata": {},
     "output_type": "execute_result"
    }
   ],
   "source": [
    "# Благоприятные исходы на все исходы, дадут вероятность вытащить окрашенные детали\n",
    "color/_all"
   ]
  },
  {
   "cell_type": "markdown",
   "metadata": {},
   "source": [
    "#### 4) В лотерее 100 билетов. Из них 2 выигрышных. Какова вероятность того, что 2 приобретенных билета окажутся выигрышными?"
   ]
  },
  {
   "cell_type": "code",
   "execution_count": 44,
   "metadata": {},
   "outputs": [],
   "source": [
    "# Не совсем понял условие. Оба приобретенных окажутся выигрышными или один из двух приобретенных?\n",
    "# Считаем, что оба должны оказаться выигрышными?"
   ]
  },
  {
   "cell_type": "code",
   "execution_count": 46,
   "metadata": {},
   "outputs": [
    {
     "data": {
      "text/plain": [
       "0.02"
      ]
     },
     "execution_count": 46,
     "metadata": {},
     "output_type": "execute_result"
    }
   ],
   "source": [
    "# Вероятность, что первый купленный билет окажется выигрышным\n",
    "vinI = 2/100\n",
    "vinI"
   ]
  },
  {
   "cell_type": "code",
   "execution_count": 47,
   "metadata": {},
   "outputs": [
    {
     "data": {
      "text/plain": [
       "0.010101010101010102"
      ]
     },
     "execution_count": 47,
     "metadata": {},
     "output_type": "execute_result"
    }
   ],
   "source": [
    "# Вероятность, что при этом второй купленный билет окажется выигрышным\n",
    "vinII = 1/99\n",
    "vinII"
   ]
  },
  {
   "cell_type": "code",
   "execution_count": 48,
   "metadata": {},
   "outputs": [
    {
     "data": {
      "text/plain": [
       "0.00020202020202020205"
      ]
     },
     "execution_count": 48,
     "metadata": {},
     "output_type": "execute_result"
    }
   ],
   "source": [
    "# Вероятность того, что оба купленных билета выигрышные\n",
    "vinI * vinII"
   ]
  },
  {
   "cell_type": "code",
   "execution_count": null,
   "metadata": {},
   "outputs": [],
   "source": []
  }
 ],
 "metadata": {
  "kernelspec": {
   "display_name": "Python 3",
   "language": "python",
   "name": "python3"
  },
  "language_info": {
   "codemirror_mode": {
    "name": "ipython",
    "version": 3
   },
   "file_extension": ".py",
   "mimetype": "text/x-python",
   "name": "python",
   "nbconvert_exporter": "python",
   "pygments_lexer": "ipython3",
   "version": "3.8.3"
  }
 },
 "nbformat": 4,
 "nbformat_minor": 4
}
